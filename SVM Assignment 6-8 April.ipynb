{
 "cells": [
  {
   "cell_type": "markdown",
   "id": "c8489301",
   "metadata": {},
   "source": [
    "- The goal of linear SVM classification is to find the hyperplane that maximizes the margin between two classes. The margin is the distance between the hyperplane and the closest data points from each class. The larger the margin, the better the separation between the classes.\n",
    "- Kernel is a parameter of SVM classification, but it is not specific to linear SVM classification. It is used in non-linear SVM classification to transform the input data into a higher-dimensional space where a hyperplane can be used to separate the classes. C is the penalty parameter of the error term, gamma is a parameter of the RBF kernel, and tol is the tolerance for stopping criterion.\n",
    "- The kernel trick is used to transform the data into a higher-dimensional space where it is easier to separate the classes using a hyperplane. This is done by computing the dot product between the transformed data points, which is equivalent to applying a nonlinear function to the data.\n",
    "- The margin is the distance between the decision boundary and the closest data point from each class. In linear SVM, the goal is to find the decision boundary that maximizes the margin, as this results in better generalization performance.\n",
    "- The main difference between hard margin and soft margin SVM is that hard margin SVM does not allow for any misclassification, while soft margin SVM allows for some misclassification of the data points. This is done to increase the generalization performance of the model, especially when the data is not perfectly separable.\n",
    "- Cross-validation is a technique to prevent data leakage in SVM and other machine learning models. It involves splitting the data into training and validation sets multiple times and using the validation set to evaluate the performance of the model. This helps to ensure that the model does not overfit the training data and can generalize well to new data."
   ]
  },
  {
   "cell_type": "markdown",
   "id": "fcf75fed",
   "metadata": {},
   "source": [
    "## 6th April Assignment-1"
   ]
  },
  {
   "cell_type": "markdown",
   "id": "7250236a",
   "metadata": {},
   "source": [
    "## Q1. What is the mathematical formula for a linear SVM?                                               ##Q2. What is the objective function of a linear SVM?\n",
    "\n",
    "Ans 1 The mathematical formula for a linear SVM (Support Vector Machine) is given by:\n",
    "\n",
    "f(x) = sign(w^T x + b)\n",
    "\n",
    "where x is the input vector, w is the weight vector, b is the bias term, and sign() is the sign function which outputs +1 if the argument is positive and -1 if the argument is negative.\n",
    "\n",
    "**Ans 2**  The objective function of a linear SVM is to find the hyperplane that maximizes the margin between the two classes. The margin is defined as the distance between the hyperplane and the closest points of each class, also known as the support vectors. The objective function can be written as:\n",
    "\n",
    "minimize 1/2 ||w||^2\n",
    "\n",
    "subject to y_i(w^T x_i + b) ≥ 1 for all i = 1, ..., n\n",
    "\n",
    "where ||w|| is the Euclidean norm of the weight vector, y_i is the label of the i-th training sample, x_i is the i-th training sample, and b is the bias term. The constraint ensures that all training samples are correctly classified with a margin of at least 1. The objective function aims to find the weight vector w that minimizes the norm of w while satisfying the classification constraints. The solution to this optimization problem is the hyperplane that maximizes the margin between the two classes.\n",
    "\n",
    "\n",
    "\n",
    "\n",
    "\n",
    "\n",
    "\n",
    "\n",
    "\n",
    "\n",
    "\n",
    "\n"
   ]
  },
  {
   "attachments": {},
   "cell_type": "markdown",
   "id": "568c769e",
   "metadata": {},
   "source": [
    "## Q3. What is the kernel trick in SVM                                                                                   ##Q4. What is the role of support vectors in SVM Explain with example\n",
    "\n",
    "**Ans 3**. The kernel trick is a technique used in SVM to transform a nonlinearly separable problem into a linearly separable problem in a higher-dimensional space. It works by computing the dot product of the data points in the higher-dimensional space without actually computing their coordinates. This avoids the computational burden of explicitly mapping the data to the higher-dimensional space.\n",
    "\n",
    "**Ans 4** Support vectors play a crucial role in SVM. They are the data points closest to the decision boundary, or hyperplane, that separates the classes. These data points have the maximum margin, which is the distance between the hyperplane and the closest data points of each class.\n",
    "\n",
    "The support vectors are used to define the decision boundary and are the only points that are used to make predictions. This is because they represent the most informative points in the data that determine the position of the decision boundary.\n",
    "\n",
    "For example, suppose we have a dataset with two classes, represented by blue and red points in a two-dimensional space. The goal is to find a linear decision boundary that separates the classes. The black line in the figure below represents the decision boundary found by the SVM algorithm.\n",
    "\n",
    "\n",
    "The circled points are the support vectors, and they lie closest to the decision boundary. These points are used to define the hyperplane and make predictions. Any points that lie outside the margin but on the correct side of the decision boundary do not affect the position of the decision boundary and are called slack variables.\n"
   ]
  },
  {
   "cell_type": "markdown",
   "id": "f8024c24",
   "metadata": {},
   "source": [
    "## Q5. Illustrate with examples and graphs of Hyperplane, Marginal plane, Soft margin and Hard margin in SVM?\n",
    "\n",
    "Sure, I can illustrate these concepts with examples and graphs in SVM.\n",
    "\n",
    "1. **Hyperplane**:\n",
    "A hyperplane is a decision boundary that separates two classes in SVM. It is represented as a straight line in two dimensions and a hyperplane in higher dimensions. The goal of SVM is to find the hyperplane that maximizes the margin between the two classes. The margin is the distance between the hyperplane and the closest data points from each class.\n",
    "Example: In the below graph, the red and blue points represent two classes, and the black line is the hyperplane that separates them.\n",
    "\n",
    " \n",
    "\n",
    "2. **Marginal plane**:\n",
    "The marginal plane is the hyperplane that lies parallel to the optimal hyperplane and closest to the support vectors. It separates the support vectors from the rest of the data points and can be used to determine the margin of the SVM classifier.\n",
    "Example: In the below graph, the dashed lines represent the marginal planes, and the solid black line is the optimal hyperplane.\n",
    "\n",
    "3. **Soft margin**:\n",
    "The soft margin is a flexible margin that allows some data points to be misclassified to achieve a better overall margin. The objective of soft margin SVM is to find the optimal hyperplane that minimizes the sum of the margin and the penalty of misclassifications.\n",
    "Example: In the below graph, the red circle represents a misclassified point that is allowed by the soft margin.\n",
    "\n",
    "\n",
    "\n",
    "4. **Hard margin**:\n",
    "The hard margin is a strict margin that does not allow any misclassified data points. It works well when the data is linearly separable, but it may not be possible to find a hard margin in some cases.\n",
    "Example: In the below graph, the hard margin SVM cannot find a hyperplane that separates the two classes without any misclassification.\n",
    "\n",
    "\n",
    "In conclusion, SVM is a powerful algorithm that uses a hyperplane to separate two classes in a high-dimensional space. The margin of the SVM classifier is the distance between the hyperplane and the closest data points from each class. The marginal plane is the hyperplane that lies parallel to the optimal hyperplane and closest to the support vectors. Soft margin allows some misclassifications to achieve a better margin, while hard margin does not allow any misclassified data points.\n",
    "\n",
    "\n",
    "\n",
    "\n",
    "\n"
   ]
  },
  {
   "cell_type": "markdown",
   "id": "b307e034",
   "metadata": {},
   "source": [
    "## Q6"
   ]
  },
  {
   "cell_type": "code",
   "execution_count": 1,
   "id": "44288a60",
   "metadata": {},
   "outputs": [],
   "source": [
    "import numpy as np\n",
    "from sklearn.datasets import load_iris\n",
    "from sklearn.model_selection import train_test_split\n",
    "from sklearn.svm import SVC\n",
    "from sklearn.metrics import accuracy_score\n",
    "import matplotlib.pyplot as plt\n",
    "\n",
    "# Load the iris dataset\n",
    "iris = load_iris()\n",
    "X = iris.data\n",
    "y = iris.target\n",
    "\n",
    "# Split the dataset into training and testing sets\n",
    "X_train, X_test, y_train, y_test = train_test_split(X, y, test_size=0.3, random_state=42)\n"
   ]
  },
  {
   "cell_type": "code",
   "execution_count": 2,
   "id": "ad3e92b8",
   "metadata": {},
   "outputs": [
    {
     "data": {
      "text/plain": [
       "array([[5.1, 3.5, 1.4, 0.2],\n",
       "       [4.9, 3. , 1.4, 0.2],\n",
       "       [4.7, 3.2, 1.3, 0.2],\n",
       "       [4.6, 3.1, 1.5, 0.2],\n",
       "       [5. , 3.6, 1.4, 0.2],\n",
       "       [5.4, 3.9, 1.7, 0.4],\n",
       "       [4.6, 3.4, 1.4, 0.3],\n",
       "       [5. , 3.4, 1.5, 0.2],\n",
       "       [4.4, 2.9, 1.4, 0.2],\n",
       "       [4.9, 3.1, 1.5, 0.1],\n",
       "       [5.4, 3.7, 1.5, 0.2],\n",
       "       [4.8, 3.4, 1.6, 0.2],\n",
       "       [4.8, 3. , 1.4, 0.1],\n",
       "       [4.3, 3. , 1.1, 0.1],\n",
       "       [5.8, 4. , 1.2, 0.2],\n",
       "       [5.7, 4.4, 1.5, 0.4],\n",
       "       [5.4, 3.9, 1.3, 0.4],\n",
       "       [5.1, 3.5, 1.4, 0.3],\n",
       "       [5.7, 3.8, 1.7, 0.3],\n",
       "       [5.1, 3.8, 1.5, 0.3],\n",
       "       [5.4, 3.4, 1.7, 0.2],\n",
       "       [5.1, 3.7, 1.5, 0.4],\n",
       "       [4.6, 3.6, 1. , 0.2],\n",
       "       [5.1, 3.3, 1.7, 0.5],\n",
       "       [4.8, 3.4, 1.9, 0.2],\n",
       "       [5. , 3. , 1.6, 0.2],\n",
       "       [5. , 3.4, 1.6, 0.4],\n",
       "       [5.2, 3.5, 1.5, 0.2],\n",
       "       [5.2, 3.4, 1.4, 0.2],\n",
       "       [4.7, 3.2, 1.6, 0.2],\n",
       "       [4.8, 3.1, 1.6, 0.2],\n",
       "       [5.4, 3.4, 1.5, 0.4],\n",
       "       [5.2, 4.1, 1.5, 0.1],\n",
       "       [5.5, 4.2, 1.4, 0.2],\n",
       "       [4.9, 3.1, 1.5, 0.2],\n",
       "       [5. , 3.2, 1.2, 0.2],\n",
       "       [5.5, 3.5, 1.3, 0.2],\n",
       "       [4.9, 3.6, 1.4, 0.1],\n",
       "       [4.4, 3. , 1.3, 0.2],\n",
       "       [5.1, 3.4, 1.5, 0.2],\n",
       "       [5. , 3.5, 1.3, 0.3],\n",
       "       [4.5, 2.3, 1.3, 0.3],\n",
       "       [4.4, 3.2, 1.3, 0.2],\n",
       "       [5. , 3.5, 1.6, 0.6],\n",
       "       [5.1, 3.8, 1.9, 0.4],\n",
       "       [4.8, 3. , 1.4, 0.3],\n",
       "       [5.1, 3.8, 1.6, 0.2],\n",
       "       [4.6, 3.2, 1.4, 0.2],\n",
       "       [5.3, 3.7, 1.5, 0.2],\n",
       "       [5. , 3.3, 1.4, 0.2],\n",
       "       [7. , 3.2, 4.7, 1.4],\n",
       "       [6.4, 3.2, 4.5, 1.5],\n",
       "       [6.9, 3.1, 4.9, 1.5],\n",
       "       [5.5, 2.3, 4. , 1.3],\n",
       "       [6.5, 2.8, 4.6, 1.5],\n",
       "       [5.7, 2.8, 4.5, 1.3],\n",
       "       [6.3, 3.3, 4.7, 1.6],\n",
       "       [4.9, 2.4, 3.3, 1. ],\n",
       "       [6.6, 2.9, 4.6, 1.3],\n",
       "       [5.2, 2.7, 3.9, 1.4],\n",
       "       [5. , 2. , 3.5, 1. ],\n",
       "       [5.9, 3. , 4.2, 1.5],\n",
       "       [6. , 2.2, 4. , 1. ],\n",
       "       [6.1, 2.9, 4.7, 1.4],\n",
       "       [5.6, 2.9, 3.6, 1.3],\n",
       "       [6.7, 3.1, 4.4, 1.4],\n",
       "       [5.6, 3. , 4.5, 1.5],\n",
       "       [5.8, 2.7, 4.1, 1. ],\n",
       "       [6.2, 2.2, 4.5, 1.5],\n",
       "       [5.6, 2.5, 3.9, 1.1],\n",
       "       [5.9, 3.2, 4.8, 1.8],\n",
       "       [6.1, 2.8, 4. , 1.3],\n",
       "       [6.3, 2.5, 4.9, 1.5],\n",
       "       [6.1, 2.8, 4.7, 1.2],\n",
       "       [6.4, 2.9, 4.3, 1.3],\n",
       "       [6.6, 3. , 4.4, 1.4],\n",
       "       [6.8, 2.8, 4.8, 1.4],\n",
       "       [6.7, 3. , 5. , 1.7],\n",
       "       [6. , 2.9, 4.5, 1.5],\n",
       "       [5.7, 2.6, 3.5, 1. ],\n",
       "       [5.5, 2.4, 3.8, 1.1],\n",
       "       [5.5, 2.4, 3.7, 1. ],\n",
       "       [5.8, 2.7, 3.9, 1.2],\n",
       "       [6. , 2.7, 5.1, 1.6],\n",
       "       [5.4, 3. , 4.5, 1.5],\n",
       "       [6. , 3.4, 4.5, 1.6],\n",
       "       [6.7, 3.1, 4.7, 1.5],\n",
       "       [6.3, 2.3, 4.4, 1.3],\n",
       "       [5.6, 3. , 4.1, 1.3],\n",
       "       [5.5, 2.5, 4. , 1.3],\n",
       "       [5.5, 2.6, 4.4, 1.2],\n",
       "       [6.1, 3. , 4.6, 1.4],\n",
       "       [5.8, 2.6, 4. , 1.2],\n",
       "       [5. , 2.3, 3.3, 1. ],\n",
       "       [5.6, 2.7, 4.2, 1.3],\n",
       "       [5.7, 3. , 4.2, 1.2],\n",
       "       [5.7, 2.9, 4.2, 1.3],\n",
       "       [6.2, 2.9, 4.3, 1.3],\n",
       "       [5.1, 2.5, 3. , 1.1],\n",
       "       [5.7, 2.8, 4.1, 1.3],\n",
       "       [6.3, 3.3, 6. , 2.5],\n",
       "       [5.8, 2.7, 5.1, 1.9],\n",
       "       [7.1, 3. , 5.9, 2.1],\n",
       "       [6.3, 2.9, 5.6, 1.8],\n",
       "       [6.5, 3. , 5.8, 2.2],\n",
       "       [7.6, 3. , 6.6, 2.1],\n",
       "       [4.9, 2.5, 4.5, 1.7],\n",
       "       [7.3, 2.9, 6.3, 1.8],\n",
       "       [6.7, 2.5, 5.8, 1.8],\n",
       "       [7.2, 3.6, 6.1, 2.5],\n",
       "       [6.5, 3.2, 5.1, 2. ],\n",
       "       [6.4, 2.7, 5.3, 1.9],\n",
       "       [6.8, 3. , 5.5, 2.1],\n",
       "       [5.7, 2.5, 5. , 2. ],\n",
       "       [5.8, 2.8, 5.1, 2.4],\n",
       "       [6.4, 3.2, 5.3, 2.3],\n",
       "       [6.5, 3. , 5.5, 1.8],\n",
       "       [7.7, 3.8, 6.7, 2.2],\n",
       "       [7.7, 2.6, 6.9, 2.3],\n",
       "       [6. , 2.2, 5. , 1.5],\n",
       "       [6.9, 3.2, 5.7, 2.3],\n",
       "       [5.6, 2.8, 4.9, 2. ],\n",
       "       [7.7, 2.8, 6.7, 2. ],\n",
       "       [6.3, 2.7, 4.9, 1.8],\n",
       "       [6.7, 3.3, 5.7, 2.1],\n",
       "       [7.2, 3.2, 6. , 1.8],\n",
       "       [6.2, 2.8, 4.8, 1.8],\n",
       "       [6.1, 3. , 4.9, 1.8],\n",
       "       [6.4, 2.8, 5.6, 2.1],\n",
       "       [7.2, 3. , 5.8, 1.6],\n",
       "       [7.4, 2.8, 6.1, 1.9],\n",
       "       [7.9, 3.8, 6.4, 2. ],\n",
       "       [6.4, 2.8, 5.6, 2.2],\n",
       "       [6.3, 2.8, 5.1, 1.5],\n",
       "       [6.1, 2.6, 5.6, 1.4],\n",
       "       [7.7, 3. , 6.1, 2.3],\n",
       "       [6.3, 3.4, 5.6, 2.4],\n",
       "       [6.4, 3.1, 5.5, 1.8],\n",
       "       [6. , 3. , 4.8, 1.8],\n",
       "       [6.9, 3.1, 5.4, 2.1],\n",
       "       [6.7, 3.1, 5.6, 2.4],\n",
       "       [6.9, 3.1, 5.1, 2.3],\n",
       "       [5.8, 2.7, 5.1, 1.9],\n",
       "       [6.8, 3.2, 5.9, 2.3],\n",
       "       [6.7, 3.3, 5.7, 2.5],\n",
       "       [6.7, 3. , 5.2, 2.3],\n",
       "       [6.3, 2.5, 5. , 1.9],\n",
       "       [6.5, 3. , 5.2, 2. ],\n",
       "       [6.2, 3.4, 5.4, 2.3],\n",
       "       [5.9, 3. , 5.1, 1.8]])"
      ]
     },
     "execution_count": 2,
     "metadata": {},
     "output_type": "execute_result"
    }
   ],
   "source": [
    "X"
   ]
  },
  {
   "cell_type": "code",
   "execution_count": 3,
   "id": "339b6917",
   "metadata": {},
   "outputs": [],
   "source": [
    "# Train a linear SVM classifier\n",
    "svm_clf = SVC(kernel='linear', C=1)\n",
    "svm_clf.fit(X_train, y_train)\n",
    "\n",
    "# Predict the labels for the testing set\n",
    "y_pred = svm_clf.predict(X_test)\n"
   ]
  },
  {
   "cell_type": "code",
   "execution_count": 4,
   "id": "e223784b",
   "metadata": {},
   "outputs": [
    {
     "data": {
      "text/plain": [
       "array([1, 0, 2, 1, 1, 0, 1, 2, 1, 1, 2, 0, 0, 0, 0, 1, 2, 1, 1, 2, 0, 2,\n",
       "       0, 2, 2, 2, 2, 2, 0, 0, 0, 0, 1, 0, 0, 2, 1, 0, 0, 0, 2, 1, 1, 0,\n",
       "       0])"
      ]
     },
     "execution_count": 4,
     "metadata": {},
     "output_type": "execute_result"
    }
   ],
   "source": [
    "y_pred"
   ]
  },
  {
   "cell_type": "code",
   "execution_count": 5,
   "id": "32b9f8c3",
   "metadata": {},
   "outputs": [
    {
     "name": "stdout",
     "output_type": "stream",
     "text": [
      "Accuracy: 1.0\n"
     ]
    }
   ],
   "source": [
    "# Compute the accuracy of the model on the testing set\n",
    "accuracy = accuracy_score(y_test, y_pred)\n",
    "print('Accuracy:', accuracy)\n"
   ]
  },
  {
   "cell_type": "code",
   "execution_count": 6,
   "id": "8d716753",
   "metadata": {},
   "outputs": [],
   "source": [
    "# Create a mesh grid of the two features\n",
    "x_min, x_max = X[:, 0].min() - 1, X[:, 0].max() + 1\n",
    "y_min, y_max = X[:, 1].min() - 1, X[:, 1].max() + 1\n",
    "xx, yy = np.meshgrid(np.arange(x_min, x_max, 0.02),\n",
    "                     np.arange(y_min, y_max, 0.02))\n"
   ]
  },
  {
   "cell_type": "code",
   "execution_count": 10,
   "id": "8e499c21",
   "metadata": {},
   "outputs": [
    {
     "data": {
      "image/png": "[encoded data removed]",
      "text/plain": [
       "<Figure size 640x480 with 1 Axes>"
      ]
     },
     "metadata": {},
     "output_type": "display_data"
    }
   ],
   "source": [
    "# Plot the decision boundaries of the trained model\n",
    "x_min, x_max = X_train[:, 0].min() - 1, X_train[:, 0].max() + 1\n",
    "y_min, y_max = X_train[:, 1].min() - 1, X_train[:, 1].max() + 1\n",
    "h = 0.02\n",
    "xx, yy = np.meshgrid(np.arange(x_min, x_max, h), np.arange(y_min, y_max, h))\n",
    "Z = svm_clf.predict(np.c_[xx.ravel(), yy.ravel(), np.zeros_like(xx.ravel()), np.zeros_like(xx.ravel())])\n",
    "Z = Z.reshape(xx.shape)\n",
    "plt.contourf(xx, yy, Z, cmap=plt.cm.Paired, alpha=0.8)\n",
    "plt.scatter(X_train[:, 0], X_train[:, 1], c=y_train, cmap=plt.cm.Paired)\n",
    "plt.xlabel('Sepal length')\n",
    "plt.ylabel('Sepal width')\n",
    "plt.xlim(xx.min(), xx.max())\n",
    "plt.ylim(yy.min(), yy.max())\n",
    "plt.xticks(())\n",
    "plt.yticks(())\n",
    "plt.title('SVM Decision Boundary')\n",
    "plt.show()\n"
   ]
  },
  {
   "cell_type": "code",
   "execution_count": 8,
   "id": "a1975546",
   "metadata": {},
   "outputs": [
    {
     "name": "stdout",
     "output_type": "stream",
     "text": [
      "C = 0.1 Accuracy: 1.0\n",
      "C = 1 Accuracy: 1.0\n",
      "C = 10 Accuracy: 0.9777777777777777\n"
     ]
    }
   ],
   "source": [
    "for C in [0.1, 1, 10]:\n",
    "    svm_clf = SVC(kernel='linear', C=C)\n",
    "    svm_clf.fit(X_train, y_train)\n",
    "    y_pred = svm_clf.predict(X_test)\n",
    "    accuracy = accuracy_score(y_test, y_pred)\n",
    "    print('C =', C, 'Accuracy:', accuracy)\n"
   ]
  },
  {
   "cell_type": "markdown",
   "id": "8f172b84",
   "metadata": {},
   "source": [
    "## 7th April Assignment-2"
   ]
  },
  {
   "cell_type": "markdown",
   "id": "6a2726ad",
   "metadata": {},
   "source": [
    "## Q1. What is the relationship between polynomial functions and kernel functions in machine learning algorithms?\n",
    "In machine learning, kernel functions are used to transform the input data into a higher-dimensional space to make it easier to separate into classes. Polynomial functions are one type of kernel function that is commonly used. Specifically, a polynomial kernel function calculates the dot product of two vectors in a higher-dimensional space defined by a polynomial function.\n",
    "\n",
    "Therefore, the relationship between polynomial functions and kernel functions in machine learning algorithms is that polynomial functions are used as kernel functions to transform the data into a higher-dimensional space. The degree of the polynomial kernel function determines the degree of the polynomial function used for the transformation.\n",
    "\n",
    "\n",
    "\n",
    "\n",
    "\n"
   ]
  },
  {
   "cell_type": "markdown",
   "id": "8116802d",
   "metadata": {},
   "source": [
    "## Q2. How can we implement an SVM with a polynomial kernel in Python using Scikit-learn?\n",
    "\n",
    "To implement an SVM with a polynomial kernel in Python using Scikit-learn, we can use the SVC (Support Vector Classifier) class. Here is an example code that demonstrates how to use SVC with a polynomial kernel:\n"
   ]
  },
  {
   "cell_type": "code",
   "execution_count": 12,
   "id": "dd2f569e",
   "metadata": {},
   "outputs": [
    {
     "name": "stdout",
     "output_type": "stream",
     "text": [
      "Accuracy: 0.7111111111111111\n"
     ]
    }
   ],
   "source": [
    "from sklearn import datasets\n",
    "from sklearn.model_selection import train_test_split\n",
    "from sklearn.svm import SVC\n",
    "\n",
    "# Load the iris dataset\n",
    "iris = datasets.load_iris()\n",
    "X = iris.data[:, :2]  # Take the first two features\n",
    "y = iris.target\n",
    "\n",
    "# Split the dataset into training and testing sets\n",
    "X_train, X_test, y_train, y_test = train_test_split(X, y, test_size=0.3)\n",
    "\n",
    "# Create an SVM classifier with a polynomial kernel\n",
    "svm_poly = SVC(kernel='poly', degree=3)\n",
    "\n",
    "# Train the classifier on the training set\n",
    "svm_poly.fit(X_train, y_train)\n",
    "\n",
    "# Make predictions on the testing set\n",
    "y_pred = svm_poly.predict(X_test)\n",
    "\n",
    "# Evaluate the performance of the classifier\n",
    "accuracy = svm_poly.score(X_test, y_test)\n",
    "print(\"Accuracy:\", accuracy)\n"
   ]
  },
  {
   "cell_type": "markdown",
   "id": "e923d5e4",
   "metadata": {},
   "source": [
    "## Q3. How does increasing the value of epsilon affect the number of support vectors in SVR?\n",
    "\n",
    "In Support Vector Regression (SVR), epsilon is a hyperparameter that controls the width of the margin around the predicted values. It determines the maximum distance between the predicted values and the actual values that the model can tolerate.\n",
    "\n",
    "When the value of epsilon is increased, the number of support vectors in SVR typically increases. This is because a larger value of epsilon allows more data points to be included within the margin, which in turn requires more support vectors to define the boundary of the margin.\n",
    "\n",
    "However, it's worth noting that the relationship between epsilon and the number of support vectors is not always straightforward and can depend on the specific dataset and model parameters. In general, it's important to select an appropriate value of epsilon through cross-validation to balance the trade-off between model complexity (i.e., number of support vectors) and generalization performance.\n",
    "\n",
    "\n",
    "\n",
    "\n",
    "\n"
   ]
  },
  {
   "cell_type": "markdown",
   "id": "9e1086bb",
   "metadata": {},
   "source": [
    "## Q4. How does the choice of kernel function, C parameter, epsilon parameter, and gamma parameter affect the performance of Support Vector Regression (SVR)? Can you explain how each parameter works and provide examples of when you might want to increase or decrease its value?\n",
    "\n",
    "The performance of Support Vector Regression (SVR) can be affected by several parameters, including the choice of kernel function, C parameter, epsilon parameter, and gamma parameter. Here is an explanation of how each parameter works and how it affects the performance of SVR:\n",
    "\n",
    "- **Kernel function**: The kernel function determines the mapping of input features to higher dimensional space, where the linear regression model can be applied. Common kernel functions are linear, polynomial, radial basis function (RBF), and sigmoid. The choice of kernel function can affect the accuracy and speed of the SVR model. For example, if the data has non-linear patterns, then the RBF kernel may be more appropriate than a linear kernel.\n",
    "\n",
    "- **C parameter**: The C parameter controls the trade-off between maximizing the margin and minimizing the error. A smaller C value allows for a wider margin, while a larger C value results in a narrower margin but fewer errors. In general, a larger C value can result in better accuracy but may lead to overfitting.\n",
    "\n",
    "- **Epsilon parameter**: The epsilon parameter controls the width of the epsilon-insensitive band around the regression line. A larger epsilon value allows for more errors within the band, while a smaller epsilon value results in fewer errors within the band. In general, a larger epsilon value can lead to a smoother regression line, while a smaller epsilon value can result in a more accurate but potentially noisier regression line.\n",
    "\n",
    "- **Gamma parameter**: The gamma parameter controls the width of the kernel function. A larger gamma value results in a more complex decision boundary, while a smaller gamma value results in a smoother decision boundary. In general, a smaller gamma value can be useful for datasets with a large number of features, while a larger gamma value may be more appropriate for datasets with fewer features.\n",
    "\n",
    "Here are some examples of when you might want to increase or decrease each parameter:\n",
    "\n",
    "- **Kernel function**: If the data has linear patterns, then a linear kernel may be appropriate. However, if the data has non-linear patterns, then a non-linear kernel such as RBF or polynomial may be more appropriate.\n",
    "\n",
    "- **C parameter**: If you have a large amount of noise in your data, then you may want to increase the C value to reduce the margin and allow for more errors. However, if you have a small amount of noise, then you may want to decrease the C value to allow for a wider margin.\n",
    "\n",
    "- **Epsilon parameter**: If you have a large amount of noise in your data, then you may want to increase the epsilon value to allow for more errors within the band. However, if you have a small amount of noise, then you may want to decrease the epsilon value to minimize the number of errors within the band.\n",
    "\n",
    "- **Gamma parameter**: If you have a large number of features in your data, then you may want to decrease the gamma value to create a smoother decision boundary. However, if you have a small number of features, then you may want to increase the gamma value to create a more complex decision boundary that captures the relationships between the features.\n",
    "\n",
    "\n"
   ]
  },
  {
   "cell_type": "markdown",
   "id": "9bf0c36c",
   "metadata": {},
   "source": [
    "## Q5. Assignment:\n",
    "- Import the necessary libraries and load the dataseg\n",
    "- Split the dataset into training and testing setZ\n",
    "- Preprocess the data using any technique of your choice (e.g. scaling, normaliMationK\n",
    "- Create an instance of the SVC classifier and train it on the training datW\n",
    "- hse the trained classifier to predict the labels of the testing datW\n",
    "- Evaluate the performance of the classifier using any metric of your choice (e.g. accuracy,\n",
    "precision, recall, F1-scoreK\n",
    "- Tune the hyperparameters of the SVC classifier using GridSearchCV or RandomiMedSearchCV to\n",
    "improve its performanc_\n",
    "- Train the tuned classifier on the entire dataseg\n",
    "- Save the trained classifier to a file for future use."
   ]
  },
  {
   "cell_type": "code",
   "execution_count": 13,
   "id": "6ed7a363",
   "metadata": {},
   "outputs": [
    {
     "name": "stdout",
     "output_type": "stream",
     "text": [
      "Accuracy: 1.0\n",
      "Fitting 5 folds for each of 18 candidates, totalling 90 fits\n",
      "[CV 1/5] END .C=0.1, gamma=scale, kernel=linear;, score=0.958 total time=   0.0s\n",
      "[CV 2/5] END .C=0.1, gamma=scale, kernel=linear;, score=0.958 total time=   0.0s\n",
      "[CV 3/5] END .C=0.1, gamma=scale, kernel=linear;, score=0.875 total time=   0.0s\n",
      "[CV 4/5] END .C=0.1, gamma=scale, kernel=linear;, score=1.000 total time=   0.0s\n",
      "[CV 5/5] END .C=0.1, gamma=scale, kernel=linear;, score=0.958 total time=   0.0s\n",
      "[CV 1/5] END ....C=0.1, gamma=scale, kernel=rbf;, score=0.875 total time=   0.0s\n",
      "[CV 2/5] END ....C=0.1, gamma=scale, kernel=rbf;, score=0.833 total time=   0.0s\n",
      "[CV 3/5] END ....C=0.1, gamma=scale, kernel=rbf;, score=0.833 total time=   0.0s\n",
      "[CV 4/5] END ....C=0.1, gamma=scale, kernel=rbf;, score=0.917 total time=   0.0s\n",
      "[CV 5/5] END ....C=0.1, gamma=scale, kernel=rbf;, score=0.833 total time=   0.0s\n",
      "[CV 1/5] END ...C=0.1, gamma=scale, kernel=poly;, score=0.833 total time=   0.0s\n",
      "[CV 2/5] END ...C=0.1, gamma=scale, kernel=poly;, score=0.708 total time=   0.0s\n",
      "[CV 3/5] END ...C=0.1, gamma=scale, kernel=poly;, score=0.917 total time=   0.0s\n",
      "[CV 4/5] END ...C=0.1, gamma=scale, kernel=poly;, score=0.833 total time=   0.0s\n",
      "[CV 5/5] END ...C=0.1, gamma=scale, kernel=poly;, score=0.750 total time=   0.0s\n",
      "[CV 1/5] END ..C=0.1, gamma=auto, kernel=linear;, score=0.958 total time=   0.0s\n",
      "[CV 2/5] END ..C=0.1, gamma=auto, kernel=linear;, score=0.958 total time=   0.0s\n",
      "[CV 3/5] END ..C=0.1, gamma=auto, kernel=linear;, score=0.875 total time=   0.0s\n",
      "[CV 4/5] END ..C=0.1, gamma=auto, kernel=linear;, score=1.000 total time=   0.0s\n",
      "[CV 5/5] END ..C=0.1, gamma=auto, kernel=linear;, score=0.958 total time=   0.0s\n",
      "[CV 1/5] END .....C=0.1, gamma=auto, kernel=rbf;, score=0.875 total time=   0.0s\n",
      "[CV 2/5] END .....C=0.1, gamma=auto, kernel=rbf;, score=0.833 total time=   0.0s\n",
      "[CV 3/5] END .....C=0.1, gamma=auto, kernel=rbf;, score=0.833 total time=   0.0s\n",
      "[CV 4/5] END .....C=0.1, gamma=auto, kernel=rbf;, score=0.917 total time=   0.0s\n",
      "[CV 5/5] END .....C=0.1, gamma=auto, kernel=rbf;, score=0.833 total time=   0.0s\n",
      "[CV 1/5] END ....C=0.1, gamma=auto, kernel=poly;, score=0.833 total time=   0.0s\n",
      "[CV 2/5] END ....C=0.1, gamma=auto, kernel=poly;, score=0.708 total time=   0.0s\n",
      "[CV 3/5] END ....C=0.1, gamma=auto, kernel=poly;, score=0.917 total time=   0.0s\n",
      "[CV 4/5] END ....C=0.1, gamma=auto, kernel=poly;, score=0.833 total time=   0.0s\n",
      "[CV 5/5] END ....C=0.1, gamma=auto, kernel=poly;, score=0.750 total time=   0.0s\n",
      "[CV 1/5] END ...C=1, gamma=scale, kernel=linear;, score=0.958 total time=   0.0s\n",
      "[CV 2/5] END ...C=1, gamma=scale, kernel=linear;, score=1.000 total time=   0.0s\n",
      "[CV 3/5] END ...C=1, gamma=scale, kernel=linear;, score=0.833 total time=   0.0s\n",
      "[CV 4/5] END ...C=1, gamma=scale, kernel=linear;, score=1.000 total time=   0.0s\n",
      "[CV 5/5] END ...C=1, gamma=scale, kernel=linear;, score=0.958 total time=   0.0s\n",
      "[CV 1/5] END ......C=1, gamma=scale, kernel=rbf;, score=0.958 total time=   0.0s\n",
      "[CV 2/5] END ......C=1, gamma=scale, kernel=rbf;, score=1.000 total time=   0.0s\n",
      "[CV 3/5] END ......C=1, gamma=scale, kernel=rbf;, score=0.833 total time=   0.0s\n",
      "[CV 4/5] END ......C=1, gamma=scale, kernel=rbf;, score=1.000 total time=   0.0s\n",
      "[CV 5/5] END ......C=1, gamma=scale, kernel=rbf;, score=0.958 total time=   0.0s\n",
      "[CV 1/5] END .....C=1, gamma=scale, kernel=poly;, score=0.958 total time=   0.0s\n",
      "[CV 2/5] END .....C=1, gamma=scale, kernel=poly;, score=0.917 total time=   0.0s\n",
      "[CV 3/5] END .....C=1, gamma=scale, kernel=poly;, score=0.917 total time=   0.0s\n",
      "[CV 4/5] END .....C=1, gamma=scale, kernel=poly;, score=0.958 total time=   0.0s\n",
      "[CV 5/5] END .....C=1, gamma=scale, kernel=poly;, score=0.875 total time=   0.0s\n",
      "[CV 1/5] END ....C=1, gamma=auto, kernel=linear;, score=0.958 total time=   0.0s\n",
      "[CV 2/5] END ....C=1, gamma=auto, kernel=linear;, score=1.000 total time=   0.0s\n",
      "[CV 3/5] END ....C=1, gamma=auto, kernel=linear;, score=0.833 total time=   0.0s\n",
      "[CV 4/5] END ....C=1, gamma=auto, kernel=linear;, score=1.000 total time=   0.0s\n",
      "[CV 5/5] END ....C=1, gamma=auto, kernel=linear;, score=0.958 total time=   0.0s\n",
      "[CV 1/5] END .......C=1, gamma=auto, kernel=rbf;, score=0.958 total time=   0.0s\n",
      "[CV 2/5] END .......C=1, gamma=auto, kernel=rbf;, score=1.000 total time=   0.0s\n",
      "[CV 3/5] END .......C=1, gamma=auto, kernel=rbf;, score=0.833 total time=   0.0s\n",
      "[CV 4/5] END .......C=1, gamma=auto, kernel=rbf;, score=1.000 total time=   0.0s\n",
      "[CV 5/5] END .......C=1, gamma=auto, kernel=rbf;, score=0.958 total time=   0.0s\n",
      "[CV 1/5] END ......C=1, gamma=auto, kernel=poly;, score=0.958 total time=   0.0s\n",
      "[CV 2/5] END ......C=1, gamma=auto, kernel=poly;, score=0.917 total time=   0.0s\n",
      "[CV 3/5] END ......C=1, gamma=auto, kernel=poly;, score=0.917 total time=   0.0s\n",
      "[CV 4/5] END ......C=1, gamma=auto, kernel=poly;, score=0.958 total time=   0.0s\n",
      "[CV 5/5] END ......C=1, gamma=auto, kernel=poly;, score=0.875 total time=   0.0s\n",
      "[CV 1/5] END ..C=10, gamma=scale, kernel=linear;, score=0.958 total time=   0.0s\n",
      "[CV 2/5] END ..C=10, gamma=scale, kernel=linear;, score=1.000 total time=   0.0s\n",
      "[CV 3/5] END ..C=10, gamma=scale, kernel=linear;, score=0.833 total time=   0.0s\n",
      "[CV 4/5] END ..C=10, gamma=scale, kernel=linear;, score=1.000 total time=   0.0s\n",
      "[CV 5/5] END ..C=10, gamma=scale, kernel=linear;, score=1.000 total time=   0.0s\n",
      "[CV 1/5] END .....C=10, gamma=scale, kernel=rbf;, score=0.958 total time=   0.0s\n",
      "[CV 2/5] END .....C=10, gamma=scale, kernel=rbf;, score=0.958 total time=   0.0s\n",
      "[CV 3/5] END .....C=10, gamma=scale, kernel=rbf;, score=0.833 total time=   0.0s\n",
      "[CV 4/5] END .....C=10, gamma=scale, kernel=rbf;, score=1.000 total time=   0.0s\n",
      "[CV 5/5] END .....C=10, gamma=scale, kernel=rbf;, score=0.958 total time=   0.0s\n",
      "[CV 1/5] END ....C=10, gamma=scale, kernel=poly;, score=0.958 total time=   0.0s\n",
      "[CV 2/5] END ....C=10, gamma=scale, kernel=poly;, score=0.958 total time=   0.0s\n",
      "[CV 3/5] END ....C=10, gamma=scale, kernel=poly;, score=0.875 total time=   0.0s\n",
      "[CV 4/5] END ....C=10, gamma=scale, kernel=poly;, score=1.000 total time=   0.0s\n",
      "[CV 5/5] END ....C=10, gamma=scale, kernel=poly;, score=0.917 total time=   0.0s\n",
      "[CV 1/5] END ...C=10, gamma=auto, kernel=linear;, score=0.958 total time=   0.0s\n",
      "[CV 2/5] END ...C=10, gamma=auto, kernel=linear;, score=1.000 total time=   0.0s\n",
      "[CV 3/5] END ...C=10, gamma=auto, kernel=linear;, score=0.833 total time=   0.0s\n",
      "[CV 4/5] END ...C=10, gamma=auto, kernel=linear;, score=1.000 total time=   0.0s\n",
      "[CV 5/5] END ...C=10, gamma=auto, kernel=linear;, score=1.000 total time=   0.0s\n",
      "[CV 1/5] END ......C=10, gamma=auto, kernel=rbf;, score=0.958 total time=   0.0s\n",
      "[CV 2/5] END ......C=10, gamma=auto, kernel=rbf;, score=0.958 total time=   0.0s\n",
      "[CV 3/5] END ......C=10, gamma=auto, kernel=rbf;, score=0.833 total time=   0.0s\n",
      "[CV 4/5] END ......C=10, gamma=auto, kernel=rbf;, score=1.000 total time=   0.0s\n",
      "[CV 5/5] END ......C=10, gamma=auto, kernel=rbf;, score=0.958 total time=   0.0s\n",
      "[CV 1/5] END .....C=10, gamma=auto, kernel=poly;, score=0.958 total time=   0.0s\n",
      "[CV 2/5] END .....C=10, gamma=auto, kernel=poly;, score=0.958 total time=   0.0s\n",
      "[CV 3/5] END .....C=10, gamma=auto, kernel=poly;, score=0.875 total time=   0.0s\n",
      "[CV 4/5] END .....C=10, gamma=auto, kernel=poly;, score=1.000 total time=   0.0s\n",
      "[CV 5/5] END .....C=10, gamma=auto, kernel=poly;, score=0.917 total time=   0.0s\n"
     ]
    },
    {
     "data": {
      "text/plain": [
       "['svc_tuned.pkl']"
      ]
     },
     "execution_count": 13,
     "metadata": {},
     "output_type": "execute_result"
    }
   ],
   "source": [
    "# Import necessary libraries\n",
    "import numpy as np\n",
    "import pandas as pd\n",
    "from sklearn.datasets import load_iris\n",
    "from sklearn.model_selection import train_test_split, GridSearchCV\n",
    "from sklearn.svm import SVC\n",
    "from sklearn.metrics import accuracy_score\n",
    "import joblib\n",
    "\n",
    "# Load the dataset\n",
    "iris = load_iris()\n",
    "X = iris.data\n",
    "y = iris.target\n",
    "\n",
    "# Split dataset into training and testing sets\n",
    "X_train, X_test, y_train, y_test = train_test_split(X, y, test_size=0.2, random_state=42)\n",
    "\n",
    "# Preprocess data using standard scaling\n",
    "from sklearn.preprocessing import StandardScaler\n",
    "scaler = StandardScaler()\n",
    "X_train = scaler.fit_transform(X_train)\n",
    "X_test = scaler.transform(X_test)\n",
    "\n",
    "# Create an instance of the SVC classifier and train it on the training data\n",
    "svc = SVC()\n",
    "svc.fit(X_train, y_train)\n",
    "\n",
    "# Use the trained classifier to predict the labels of the testing data\n",
    "y_pred = svc.predict(X_test)\n",
    "\n",
    "# Evaluate the performance of the classifier using accuracy\n",
    "accuracy = accuracy_score(y_test, y_pred)\n",
    "print(\"Accuracy:\", accuracy)\n",
    "\n",
    "# Tune hyperparameters using GridSearchCV\n",
    "param_grid = {'C': [0.1, 1, 10], 'kernel': ['linear', 'rbf', 'poly'], 'gamma': ['scale', 'auto']}\n",
    "grid = GridSearchCV(SVC(), param_grid, refit=True, verbose=3)\n",
    "grid.fit(X_train, y_train)\n",
    "\n",
    "# Train the tuned classifier on the entire dataset\n",
    "svc_tuned = grid.best_estimator_\n",
    "svc_tuned.fit(X, y)\n",
    "\n",
    "# Save the trained classifier to a file for future use\n",
    "joblib.dump(svc_tuned, 'svc_tuned.pkl')\n"
   ]
  },
  {
   "cell_type": "code",
   "execution_count": null,
   "id": "5148f69c",
   "metadata": {},
   "outputs": [],
   "source": []
  },
  {
   "cell_type": "code",
   "execution_count": null,
   "id": "1658f563",
   "metadata": {},
   "outputs": [],
   "source": []
  },
  {
   "cell_type": "markdown",
   "id": "6e9ec650",
   "metadata": {},
   "source": [
    "## Q2. You have built an SVM regression model and are trying to decide between using MSE or R-squared as your evaluation metric. Which metric would be more appropriate if your goal is to predict the actual price of a house as accurately as possible?\n",
    "\n",
    "In this scenario, if the goal is to predict the actual price of a house as accurately as possible, the most appropriate evaluation metric would be Mean Squared Error (MSE).\n",
    "\n",
    "MSE measures the average squared difference between the predicted and actual values, giving more weight to large errors. It provides a more detailed picture of the magnitude of the errors in the predictions and how they vary across the data.\n",
    "\n",
    "On the other hand, R-squared measures the proportion of the variance in the dependent variable that is explained by the independent variables, which is more appropriate for evaluating the goodness-of-fit of the model rather than the accuracy of predictions.\n",
    "\n",
    "Therefore, MSE would be a more suitable evaluation metric when the goal is to minimize prediction errors and obtain accurate predictions of the actual price of a house.\n",
    "\n",
    "\n",
    "\n",
    "\n",
    "\n"
   ]
  },
  {
   "cell_type": "markdown",
   "id": "db7394af",
   "metadata": {},
   "source": [
    "## Q3. You have a dataset with a significant number of outliers and are trying to select an appropriate regression metric to use with your SVM model. Which metric would be the most appropriate in this scenario?\n",
    "When dealing with a significant number of outliers in a dataset, mean squared error (MSE) may not be the most appropriate regression metric to use with an SVM model. This is because MSE is sensitive to outliers, meaning that a single outlier can significantly increase the error.\n",
    "\n",
    "In this scenario, a more robust regression metric such as mean absolute error (MAE) or median absolute error (MedAE) may be more appropriate. These metrics are less sensitive to outliers and give a more accurate representation of the model's performance on the majority of the data."
   ]
  },
  {
   "cell_type": "markdown",
   "id": "21c23d2e",
   "metadata": {},
   "source": [
    "## Q4. You have built an SVM regression model using a polynomial kernel and are trying to select the best metric to evaluate its performance. You have calculated both MSE and RMSE and found that both values are very close. Which metric should you choose to use in this case?\n",
    "If both MSE and RMSE are very close, either metric could be used to evaluate the performance of the SVM regression model. However, RMSE is often preferred over MSE because it has the same units as the dependent variable, which can make it easier to interpret the magnitude of the errors in the predictions. Additionally, RMSE is less sensitive to large errors than MSE because of the square root operation, which can be useful if there are outliers in the dataset."
   ]
  },
  {
   "cell_type": "markdown",
   "id": "35e78aa2",
   "metadata": {},
   "source": [
    "## Q5. You are comparing the performance of different SVM regression models using different kernels (linear, polynomial, and RBF) and are trying to select the best evaluation metric. Which metric would be most appropriate if your goal is to measure how well the model explains the variance in the target variable?\n",
    "\n",
    "The most appropriate metric to measure how well an SVM regression model explains the variance in the target variable is the coefficient of determination, also known as R-squared. R-squared measures the proportion of the variance in the dependent variable that is explained by the independent variables in the model. A higher R-squared indicates a better fit of the model to the data, which means that the model can better explain the variability of the target variable. Therefore, R-squared is a suitable metric for comparing the performance of SVM regression models with different kernels when the goal is to measure how well the model explains the variance in the target variable.\n",
    "\n",
    "\n",
    "\n",
    "\n",
    "\n"
   ]
  }
 ],
 "metadata": {
  "kernelspec": {
   "display_name": "Python 3 (ipykernel)",
   "language": "python",
   "name": "python3"
  },
  "language_info": {
   "codemirror_mode": {
    "name": "ipython",
    "version": 3
   },
   "file_extension": ".py",
   "mimetype": "text/x-python",
   "name": "python",
   "nbconvert_exporter": "python",
   "pygments_lexer": "ipython3",
   "version": "3.10.9"
  }
 },
 "nbformat": 4,
 "nbformat_minor": 5
}
